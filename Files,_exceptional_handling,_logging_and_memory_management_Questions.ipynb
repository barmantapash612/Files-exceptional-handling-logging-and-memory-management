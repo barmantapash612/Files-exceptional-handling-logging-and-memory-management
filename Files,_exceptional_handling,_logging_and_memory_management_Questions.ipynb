{
  "nbformat": 4,
  "nbformat_minor": 0,
  "metadata": {
    "colab": {
      "provenance": []
    },
    "kernelspec": {
      "name": "python3",
      "display_name": "Python 3"
    },
    "language_info": {
      "name": "python"
    }
  },
  "cells": [
    {
      "cell_type": "markdown",
      "source": [
        "# **Theory**\n",
        "\n"
      ],
      "metadata": {
        "id": "SDjUU4o1D0At"
      }
    },
    {
      "cell_type": "markdown",
      "source": [
        "**1 . What is the difference between interpreted and compiled languages?**\n",
        "\n",
        "▶\n",
        "\n",
        "#### **Interpreted Languages**\n",
        "- Code is **executed line by line**.\n",
        "- No need to compile the code beforehand.\n",
        "- **Slower** than compiled languages because it’s translated on the fly.\n",
        "- **Easier to debug** since you can test parts of the code without compiling everything.\n",
        "- Examples: **Python**, JavaScript, Ruby.\n",
        "\n",
        "#### **Compiled Languages**\n",
        "- Code is **translated into machine code (binary)** before execution.\n",
        "- This translation is done by a **compiler**, producing an executable file.\n",
        "- **Faster** because the translation happens only once.\n",
        "- **Harder to debug** sometimes because you must recompile after every change.\n",
        "- Examples: **C, C++, Rust, Go**\n",
        "\n"
      ],
      "metadata": {
        "id": "aIVz8G_WFRyR"
      }
    },
    {
      "cell_type": "markdown",
      "source": [
        "**2 .  What is exception handling in Python?**\n",
        "\n",
        "▶\n",
        "#### **Exception Handling in Python**  \n",
        "It’s used to **handle errors** without crashing the program.\n",
        "\n",
        "#### Syntax:\n",
        "```python\n",
        "try:\n",
        "    # code that might cause an error\n",
        "except ErrorType:\n",
        "    # code to run if that error happens\n",
        "```\n",
        "\n",
        "#### Optional:\n",
        "- `else`: runs if no error\n",
        "- `finally`: always runs\n",
        "\n",
        "---\n",
        "\n",
        "**Example:**\n",
        "```python\n",
        "try:\n",
        "    x = 10 / 0\n",
        "except ZeroDivisionError:\n",
        "    print(\"Can't divide by zero!\")\n",
        "```\n",
        "\n",
        "Let me know if you want a one-liner explanation of anything else!"
      ],
      "metadata": {
        "id": "pjnn9dLWGY32"
      }
    },
    {
      "cell_type": "markdown",
      "source": [
        "**3 .  What is the purpose of the finally block in exception handling?**\n",
        "\n",
        "▶\n",
        "The `finally` block is used to **run code no matter what happens** — whether an exception occurs or not.\n",
        "\n",
        "---\n",
        "\n",
        "#### Common Use:\n",
        "- Closing files\n",
        "- Releasing resources (like database connections)\n",
        "- Cleaning up after a try-except block\n",
        "\n",
        "---\n",
        "\n",
        "#### Example:\n",
        "```python\n",
        "try:\n",
        "    x = 10 / 0\n",
        "except ZeroDivisionError:\n",
        "    print(\"Error occurred\")\n",
        "finally:\n",
        "    print(\"This will always run\")\n",
        "```\n",
        ""
      ],
      "metadata": {
        "id": "3aR_Uy1tHZuN"
      }
    },
    {
      "cell_type": "markdown",
      "source": [
        "**4 . What is logging in Python?**\n",
        "\n",
        "▶\n",
        "#### **Logging in Python**\n",
        "Logging is used to **record messages** about a program’s execution — helpful for **debugging** and **monitoring**.\n",
        "\n",
        "---\n",
        "\n",
        "#### Example:\n",
        "```python\n",
        "import logging\n",
        "logging.info(\"This is a log message\")\n",
        "```\n",
        "\n",
        "---\n",
        "\n",
        "#### Log Levels:\n",
        "`DEBUG` → `INFO` → `WARNING` → `ERROR` → `CRITICAL`\n",
        "\n",
        "---\n",
        "\n",
        "It’s like `print()`, but **more powerful and flexible**."
      ],
      "metadata": {
        "id": "j43uawpdIO2a"
      }
    },
    {
      "cell_type": "markdown",
      "source": [
        "**5 .  What is the significance of the __ del__ method in Python?**\n",
        "\n",
        "▶ `__del__` Method in Python (Destructor)\n",
        "\n",
        "The `__del__` method is called **when an object is about to be destroyed** — it's like a **clean-up** function.\n",
        "\n",
        "---\n",
        "\n",
        "#### Purpose:\n",
        "- To **release resources** (like closing files or database connections)\n",
        "- Automatically called when the object is **deleted or goes out of scope**\n",
        "\n",
        "---\n",
        "\n",
        "#### Example:\n",
        "```python\n",
        "class MyClass:\n",
        "    def __del__(self):\n",
        "        print(\"Object is being deleted\")\n",
        "\n",
        "obj = MyClass()\n",
        "del obj  # This triggers __del__()\n",
        "```\n",
        "\n",
        "---\n",
        "\n",
        "#### Note:\n",
        "Use `__del__` **carefully**, especially when working with files or external resources. It’s not always guaranteed *when* it'll be called (depends on garbage collection).\n"
      ],
      "metadata": {
        "id": "qP0piOgQJEbp"
      }
    },
    {
      "cell_type": "markdown",
      "source": [
        "**6 . What is the difference between import and from ... import in Python?**\n",
        "\n",
        "▶**`import` vs `from ... import` in Python**\n",
        "\n",
        "Both are used to bring modules or functions into your code, but they work a bit differently:\n",
        "\n",
        "---\n",
        "\n",
        "### 1. **`import`**\n",
        "- Imports the **whole module**.\n",
        "- To access a function or class, you need to use the module name.\n",
        "\n",
        "**Example:**\n",
        "```python\n",
        "import math\n",
        "result = math.sqrt(16)\n",
        "```\n",
        "\n",
        "---\n",
        "\n",
        "### 2. **`from ... import`**\n",
        "- Imports **specific functions, classes, or variables** from a module.\n",
        "- You **don’t need the module name** to access them.\n",
        "\n",
        "**Example:**\n",
        "```python\n",
        "from math import sqrt\n",
        "result = sqrt(16)\n",
        "```\n",
        "\n",
        "---\n",
        "\n",
        "#### Key Differences:\n",
        "- `import`: Access via `module.function`\n",
        "- `from ... import`: Access directly via `function` (no module prefix)\n"
      ],
      "metadata": {
        "id": "IwjU1g-DKL4X"
      }
    },
    {
      "cell_type": "markdown",
      "source": [
        "**7 . How can you handle multiple exceptions in Python?**\n",
        "\n",
        "▶ **Handling Multiple Exceptions in Python**\n",
        "\n",
        "You can handle multiple exceptions by using **multiple `except` blocks** or a **single `except` block** that handles multiple exceptions.\n",
        "\n",
        "---\n",
        "\n",
        "##### 1. **Multiple `except` Blocks:**\n",
        "\n",
        "Each `except` block handles a different type of exception.\n",
        "\n",
        "```python\n",
        "try:\n",
        "    # Code that might raise multiple exceptions\n",
        "    x = int(input(\"Enter a number: \"))\n",
        "    result = 10 / x\n",
        "except ValueError:\n",
        "    print(\"That's not a valid number!\")\n",
        "except ZeroDivisionError:\n",
        "    print(\"You can't divide by zero!\")\n",
        "```\n",
        "\n",
        "---\n",
        "\n",
        "##### 2. **Single `except` Block for Multiple Exceptions:**\n",
        "\n",
        "You can list multiple exceptions in a **tuple** to handle them together.\n",
        "\n",
        "```python\n",
        "try:\n",
        "    # Code that might raise multiple exceptions\n",
        "    x = int(input(\"Enter a number: \"))\n",
        "    result = 10 / x\n",
        "except (ValueError, ZeroDivisionError):\n",
        "    print(\"There was an error with the input or division!\")\n",
        "```\n",
        "\n",
        "---\n",
        "\n",
        "#### Key Points:\n",
        "- Use multiple `except` blocks for different error types.\n",
        "- Use a tuple to handle multiple exceptions in one block."
      ],
      "metadata": {
        "id": "CQyh0nBwPEuL"
      }
    },
    {
      "cell_type": "markdown",
      "source": [
        "**8 .  What is the purpose of the with statement when handling files in Python?**\n",
        "\n",
        "▶**Purpose of the `with` Statement in Python**\n",
        "\n",
        "The `with` statement is used for **resource management** (like handling files) to ensure that resources are properly **acquired and released**.\n",
        "\n",
        "---\n",
        "\n",
        "#### Benefits of `with`:\n",
        "- **Automatically closes files** (even if an error occurs).\n",
        "- Makes your code **cleaner** and **more readable**.\n",
        "- Ensures **proper resource management** without needing to call `close()` manually.\n",
        "\n",
        "---\n",
        "\n",
        "#### Example:\n",
        "\n",
        "```python\n",
        "with open('file.txt', 'r') as file:\n",
        "    content = file.read()\n",
        "    print(content)\n",
        "# No need to call file.close() explicitly!\n",
        "```\n",
        "\n",
        "---\n",
        "\n",
        "#### Why it's better:\n",
        "Without `with`, you’d have to manually call `file.close()`, and if something goes wrong, the file might **remain open**. Using `with` makes sure the file is **always closed** properly.\n",
        "\n"
      ],
      "metadata": {
        "id": "ajCDO006QGNg"
      }
    },
    {
      "cell_type": "markdown",
      "source": [
        "9 .  What is the difference between multithreading and multiprocessing?\n",
        "\n",
        "▶\n",
        "#### **Multithreading vs Multiprocessing in Python**\n",
        "\n",
        "Both are used to run **tasks in parallel**, but they work differently under the hood:\n",
        "\n",
        "---\n",
        "\n",
        "#### **Multithreading**\n",
        "- Runs **multiple threads** within the **same process**.\n",
        "- Threads **share memory** space.\n",
        "- Best for **I/O-bound** tasks (e.g., file operations, network requests).\n",
        "- Limited by Python’s **GIL** (Global Interpreter Lock).\n",
        "\n",
        "**Example use case:** Downloading files from the internet.\n",
        "\n",
        "---\n",
        "\n",
        "#### **Multiprocessing**\n",
        "- Runs **multiple processes**, each with its **own memory space**.\n",
        "- Bypasses the GIL → allows **true parallelism**.\n",
        "- Best for **CPU-bound** tasks (e.g., calculations, data processing).\n",
        "\n",
        "**Example use case:** Image processing or complex math tasks.\n",
        "\n",
        "---\n",
        "\n",
        "#### Key Differences:\n",
        "\n",
        "| Feature            | Multithreading       | Multiprocessing        |\n",
        "|--------------------|----------------------|-------------------------|\n",
        "| Memory             | Shared               | Separate                |\n",
        "| GIL                | Affected             | Not affected            |\n",
        "| Best For           | I/O-bound tasks       | CPU-bound tasks         |\n",
        "| Performance        | Light but limited    | Heavier but faster for CPU tasks |\n"
      ],
      "metadata": {
        "id": "qvhwkOI3QwG7"
      }
    },
    {
      "cell_type": "markdown",
      "source": [
        "**10 . What are the advantages of using logging in a program?**\n",
        "\n",
        "▶\n",
        "\n",
        " **Advantages of Using Logging in a Program**\n",
        "\n",
        "1. **Tracks Events:**  \n",
        "   Helps monitor what your program is doing while it runs.\n",
        "\n",
        "2. **Easier Debugging:**  \n",
        "   Gives you detailed info about bugs without using `print()` everywhere.\n",
        "\n",
        "3. **Log Levels:**  \n",
        "   Lets you control the importance of messages (DEBUG, INFO, WARNING, ERROR, CRITICAL).\n",
        "\n",
        "4. **Persistent Records:**  \n",
        "   Can save logs to a file for future analysis.\n",
        "\n",
        "5. **Better than `print()`:**  \n",
        "   More flexible, structured, and professional.\n",
        "\n",
        "6. **Production-Ready:**  \n",
        "   Essential for real-world apps to monitor performance, usage, and errors.\n",
        "\n"
      ],
      "metadata": {
        "id": "_Oi3e5rKSoV1"
      }
    },
    {
      "cell_type": "markdown",
      "source": [
        "**11 .  What is memory management in Python?**\n",
        "\n",
        "▶\n",
        "\n",
        " **Memory Management in Python**\n",
        "\n",
        "**Memory management** in Python is the process of **allocating and freeing memory** automatically while your program runs.\n",
        "\n",
        "---\n",
        "\n",
        "#### Key Components:\n",
        "\n",
        "1. **Automatic Memory Allocation:**  \n",
        "   Python handles memory for variables, objects, etc. — no need to do it manually.\n",
        "\n",
        "2. **Garbage Collection:**  \n",
        "   Unused objects are **automatically deleted** to free memory.\n",
        "\n",
        "3. **Reference Counting:**  \n",
        "   Python keeps track of how many references point to an object.  \n",
        "   When the count hits **zero**, the memory is released.\n",
        "\n",
        "4. **Private Heap Space:**  \n",
        "   All objects and data structures are stored in a private memory area called the **heap**.\n",
        "\n",
        "---\n",
        "\n",
        "#### Benefits:\n",
        "- Makes coding **simpler and safer**\n",
        "- **Reduces memory leaks**\n",
        "- Helps your app **run efficiently**"
      ],
      "metadata": {
        "id": "Z2Xt55pnTSZl"
      }
    },
    {
      "cell_type": "markdown",
      "source": [
        "**12 .  What are the basic steps involved in exception handling in Python?**\n",
        "\n",
        "▶ **Basic Steps in Exception Handling in Python**\n",
        "\n",
        "Here are the **4 main steps**:\n",
        "\n",
        "---\n",
        "\n",
        "#### 1. **Try Block**\n",
        "Write the **risky code** (that might cause an error).\n",
        "\n",
        "```python\n",
        "try:\n",
        "    x = 10 / 0\n",
        "```\n",
        "\n",
        "---\n",
        "\n",
        "#### 2. **Except Block**\n",
        "Handle the **specific exception** if it occurs.\n",
        "\n",
        "```python\n",
        "except ZeroDivisionError:\n",
        "    print(\"Can't divide by zero!\")\n",
        "```\n",
        "\n",
        "---\n",
        "\n",
        "#### 3. **Else Block**\n",
        "Runs **only if no exception** occurs.\n",
        "\n",
        "```python\n",
        "else:\n",
        "    print(\"No errors, successful!\")\n",
        "```\n",
        "\n",
        "---\n",
        "\n",
        "#### 4. **Finally Block**   \n",
        "Runs **no matter what** — good for clean-up.\n",
        "\n",
        "```python\n",
        "finally:\n",
        "    print(\"This always runs\")\n",
        "```\n",
        "\n",
        "---\n",
        "\n",
        "#### Summary:\n",
        "Use `try` to test code, `except` to catch errors, `else` to run if no error, and `finally` to clean up."
      ],
      "metadata": {
        "id": "z91WdFd_T3Rj"
      }
    },
    {
      "cell_type": "markdown",
      "source": [
        "**13 . Why is memory management important in Python?**\n",
        "\n",
        "▶\n",
        "\n",
        "Proper memory management ensures your Python program runs **efficiently**, **smoothly**, and **doesn't crash**.\n",
        "\n",
        "---\n",
        "\n",
        "#### Reasons Why It’s Important:\n",
        "\n",
        "1. **Prevents Memory Leaks:**  \n",
        "   Frees up unused memory so your program doesn’t keep using more and more.\n",
        "\n",
        "2. **Improves Performance:**  \n",
        "   Efficient memory use = faster programs.\n",
        "\n",
        "3. **Avoids Crashes:**  \n",
        "   Prevents your system from running out of memory during execution.\n",
        "\n",
        "4. **Supports Large-Scale Applications:**  \n",
        "   Critical for apps that process lots of data (like ML or web apps).\n",
        "\n",
        "5. **Automatic but Controllable:**  \n",
        "   Python handles memory automatically (via garbage collection), but knowing how it works helps you write **better and more optimized code**.\n",
        "\n",
        "---\n",
        "\n",
        " **Good memory management = faster, cleaner, and safer programs.**"
      ],
      "metadata": {
        "id": "-34Yn__YU4IN"
      }
    },
    {
      "cell_type": "markdown",
      "source": [
        "**14 . What is the role of try and except in exception handling?**\n",
        "\n",
        "▶ **Role of `try` and `except` in Exception Handling (Python)**\n",
        "\n",
        "---\n",
        "\n",
        "#### ✅ **`try` block**  \n",
        "- Contains **code that might cause an error**  \n",
        "- Python **tries** to run this code\n",
        "\n",
        "```python\n",
        "try:\n",
        "    x = 10 / 0\n",
        "```\n",
        "\n",
        "---\n",
        "\n",
        "#### ❌ **`except` block**  \n",
        "- Runs **only if an error occurs** in the `try` block  \n",
        "- Catches the **specific exception** and lets your program continue\n",
        "\n",
        "```python\n",
        "except ZeroDivisionError:\n",
        "    print(\"You can't divide by zero!\")\n",
        "```\n",
        "\n",
        "---\n",
        "\n",
        "#### Summary:\n",
        "- `try`: Tests risky code  \n",
        "- `except`: Handles the error if it happens\n",
        "\n",
        "They work **together** to prevent your program from **crashing** and to **handle errors gracefully**."
      ],
      "metadata": {
        "id": "aSNuAzdkfrvt"
      }
    },
    {
      "cell_type": "markdown",
      "source": [
        "**15 How does Python's garbage collection system work?**\n",
        "\n",
        "▶\n",
        "\n",
        "Python’s garbage collector **automatically frees memory** by removing objects that are **no longer needed** — so you don’t have to do it manually.\n",
        "\n",
        "---\n",
        "\n",
        "##### Here's how it works:\n",
        "\n",
        "###### 1. **Reference Counting**  \n",
        "- Every object has a **reference count** (how many variables point to it).\n",
        "- When the count reaches **zero**, the object is deleted.\n",
        "\n",
        "```python\n",
        "a = [1, 2, 3]  # reference count = 1\n",
        "b = a          # reference count = 2\n",
        "del a          # reference count = 1\n",
        "del b          # reference count = 0 → garbage collected\n",
        "```\n",
        "\n",
        "---\n",
        "\n",
        "###### 2. **Garbage Collector for Cycles**  \n",
        "- If objects refer to **each other** (circular references), reference count won’t hit zero.\n",
        "- Python’s **garbage collector** can detect and clean up these **reference cycles**.\n",
        "\n",
        "---\n",
        "\n",
        "###### 3. **`gc` Module**  \n",
        "You can manually interact with the garbage collector using the `gc` module:\n",
        "\n",
        "```python\n",
        "import gc\n",
        "gc.collect()  # Force garbage collection\n",
        "```\n",
        "\n",
        "---\n",
        "\n",
        "##### In Short:\n",
        "- Python uses **reference counting** + a **cyclic garbage collector**.\n",
        "- It helps manage memory automatically and avoids memory leaks."
      ],
      "metadata": {
        "id": "A2UxrkR6gceu"
      }
    },
    {
      "cell_type": "markdown",
      "source": [
        "**16 .  What is the purpose of the else block in exception handling?**\n",
        "\n",
        "▶\n",
        "##### **Purpose of the `else` Block in Exception Handling (Python)**\n",
        "\n",
        "The `else` block is used to write code that should **run only if no exception occurs** in the `try` block.\n",
        "\n",
        "---\n",
        "\n",
        "##### Why use it?\n",
        "- Keeps your code **cleaner** by separating **normal logic** from **error handling**.\n",
        "\n",
        "---\n",
        "\n",
        "##### Example:\n",
        "```python\n",
        "try:\n",
        "    num = int(input(\"Enter a number: \"))\n",
        "except ValueError:\n",
        "    print(\"Invalid input!\")\n",
        "else:\n",
        "    print(\"You entered:\", num)\n",
        "```\n",
        "\n",
        "---\n",
        "\n",
        "##### Summary:\n",
        "- `try`: risky code  \n",
        "- `except`: handles errors  \n",
        "- **`else`: runs if everything goes well (no exceptions)**"
      ],
      "metadata": {
        "id": "yFxE3deShSXF"
      }
    },
    {
      "cell_type": "markdown",
      "source": [
        "**17 .  What are the common logging levels in Python?**\n",
        "\n",
        "▶ **Common Logging Levels in Python (from lowest to highest severity):**\n",
        "\n",
        "1. **`DEBUG`**  \n",
        "   - Detailed information, mostly for developers  \n",
        "   - Example: `logging.debug(\"This is a debug message\")`\n",
        "\n",
        "2. **`INFO`**  \n",
        "   - Confirms things are working as expected  \n",
        "   - Example: `logging.info(\"Process started\")`\n",
        "\n",
        "3. **`WARNING`**  \n",
        "   - Something unexpected, but the program still runs  \n",
        "   - Example: `logging.warning(\"Low disk space\")`\n",
        "\n",
        "4. **`ERROR`**  \n",
        "   - A serious problem; the program couldn't do something  \n",
        "   - Example: `logging.error(\"File not found\")`\n",
        "\n",
        "5. **`CRITICAL`**  \n",
        "   - Very serious error — the program may not continue  \n",
        "   - Example: `logging.critical(\"System crash!\")`\n",
        "\n",
        "---\n",
        "\n",
        "##### Summary Table:\n",
        "\n",
        "| Level     | Use Case                          |\n",
        "|-----------|-----------------------------------|\n",
        "| DEBUG     | For debugging during development  |\n",
        "| INFO      | General events/status updates     |\n",
        "| WARNING   | Something might go wrong soon     |\n",
        "| ERROR     | An error occurred                 |\n",
        "| CRITICAL  | Very severe error (system failure)|\n"
      ],
      "metadata": {
        "id": "t1GCnpFth9jx"
      }
    },
    {
      "cell_type": "markdown",
      "source": [
        "**18 .  What is the difference between os.fork() and multiprocessing in Python?**\n",
        "\n",
        "▶ **`os.fork()` vs `multiprocessing` in Python**\n",
        "\n",
        "Both can create new processes, but they work differently and are used in different contexts.\n",
        "\n",
        "---\n",
        "\n",
        "##### **`os.fork()`**\n",
        "\n",
        "- **Low-level** system call (Unix/Linux only).\n",
        "- Creates a **child process** by duplicating the current process.\n",
        "- Child and parent run **separately**, starting from the same code point.\n",
        "- No cross-platform support (❌ not on Windows).\n",
        "- You manage **communication and synchronization** manually.\n",
        "\n",
        "```python\n",
        "import os\n",
        "\n",
        "pid = os.fork()\n",
        "if pid == 0:\n",
        "    print(\"Child process\")\n",
        "else:\n",
        "    print(\"Parent process\")\n",
        "```\n",
        "\n",
        "---\n",
        "\n",
        "##### **`multiprocessing` Module**\n",
        "\n",
        "- **High-level API** for creating and managing processes.\n",
        "- **Cross-platform** ( works on Windows, macOS, Linux).\n",
        "- Easier to use and includes tools for **IPC (inter-process communication)**.\n",
        "- Safer and cleaner than `os.fork()`.\n",
        "\n",
        "```python\n",
        "from multiprocessing import Process\n",
        "\n",
        "def worker():\n",
        "    print(\"Child process\")\n",
        "\n",
        "p = Process(target=worker)\n",
        "p.start()\n",
        "p.join()\n",
        "```\n",
        "\n",
        "---\n",
        "\n",
        "##### **Key Differences:**\n",
        "\n",
        "| Feature              | `os.fork()`              | `multiprocessing`               |\n",
        "|----------------------|--------------------------|---------------------------------|\n",
        "| Platform             | Unix/Linux only          | Cross-platform                  |\n",
        "| Level                | Low-level (manual)       | High-level (easy to use)        |\n",
        "| Process handling     | Manual                   | Built-in tools (start, join)    |\n",
        "| Use case             | Advanced system-level use| General parallel processing     |\n",
        "\n",
        "---\n",
        "\n",
        " **Use `multiprocessing`** if you want **portability**, **simplicity**, and **safer code**. Use `os.fork()` only if you're doing something very low-level on Unix systems."
      ],
      "metadata": {
        "id": "HrRVdDt8idDJ"
      }
    },
    {
      "cell_type": "markdown",
      "source": [
        "**19 . What is the importance of closing a file in Python?**\n",
        "\n",
        "▶ **Importance of Closing a File in Python**\n",
        "\n",
        "Closing a file is **very important** to ensure proper use of system resources and data integrity.\n",
        "\n",
        "---\n",
        "\n",
        "##### Why you should close a file:\n",
        "\n",
        "1. **Frees Up System Resources**  \n",
        "   - Open files use memory and system resources.  \n",
        "   - Closing them releases those resources.\n",
        "\n",
        "2. **Saves Data Properly**  \n",
        "   - For files opened in **write (`'w'`) or append (`'a'`) mode**, data might be buffered.  \n",
        "   - If not closed, some data might not be saved to the file.\n",
        "\n",
        "3. **Avoids File Corruption**  \n",
        "   - Unclosed files (especially during writing) can become **corrupted** or **incomplete**.\n",
        "\n",
        "4. **Allows Other Programs to Access the File**  \n",
        "   - Some systems lock files while open; closing it releases the lock.\n",
        "\n",
        "---\n",
        "\n",
        "#### Example:\n",
        "```python\n",
        "file = open(\"data.txt\", \"w\")\n",
        "file.write(\"Hello!\")\n",
        "file.close()  # Always close it!\n",
        "```"
      ],
      "metadata": {
        "id": "o3m39ruWic-w"
      }
    },
    {
      "cell_type": "markdown",
      "source": [
        "**20  .What is the difference between file.read() and file.readline() in Python?**\n",
        "\n",
        "▶\n",
        "\n",
        " **`file.read()` vs `file.readline()` in Python**\n",
        "\n",
        "| Method           | Description                            |\n",
        "|------------------|----------------------------------------|\n",
        "| `file.read()`    | Reads **entire file** as a single string |\n",
        "| `file.readline()`| Reads **one line** at a time            |\n",
        "\n",
        "---\n",
        "\n",
        "##### Example:\n",
        "```python\n",
        "with open(\"sample.txt\", \"r\") as file:\n",
        "    print(file.read())       # Reads whole file\n",
        "```\n",
        "\n",
        "```python\n",
        "with open(\"sample.txt\", \"r\") as file:\n",
        "    print(file.readline())   # Reads first line only\n",
        "```"
      ],
      "metadata": {
        "id": "MCTGZo0LkGsf"
      }
    },
    {
      "cell_type": "markdown",
      "source": [
        "**21 .  What is the logging module in Python used for?**\n",
        "\n",
        "▶\n",
        "The `logging` module is used to:\n",
        "\n",
        "- ✅ **Record messages** about a program’s execution  \n",
        "- ✅ **Track events**, errors, warnings, or info  \n",
        "- ✅ Help with **debugging** and **monitoring**  \n",
        "- ✅ Log to **console, files, or other outputs**\n",
        "\n",
        "---\n",
        "\n",
        "##### Example:\n",
        "```python\n",
        "import logging\n",
        "logging.warning(\"This is a warning message\")\n",
        "```\n",
        "\n",
        "---\n",
        "\n",
        " It’s more powerful and flexible than just using `print()`."
      ],
      "metadata": {
        "id": "hwN43TvPMzmr"
      }
    },
    {
      "cell_type": "markdown",
      "source": [
        "**22 .  What is the os module in Python used for in file handling?**\n",
        "\n",
        "▶ **`os` Module in Python – File Handling Use**\n",
        "\n",
        "The `os` module helps you **interact with the operating system**, especially for **file and directory operations**.\n",
        "\n",
        "---\n",
        "\n",
        "##### Common Uses in File Handling:\n",
        "\n",
        "- **Check if a file/folder exists:**  \n",
        "  ```python\n",
        "  os.path.exists(\"file.txt\")\n",
        "  ```\n",
        "\n",
        "- **Create/Delete directories:**  \n",
        "  ```python\n",
        "  os.mkdir(\"new_folder\")  \n",
        "  os.rmdir(\"new_folder\")\n",
        "  ```\n",
        "\n",
        "- **Remove files:**  \n",
        "  ```python\n",
        "  os.remove(\"file.txt\")\n",
        "  ```\n",
        "\n",
        "- **List files in a directory:**  \n",
        "  ```python\n",
        "  os.listdir(\".\")\n",
        "  ```\n",
        "\n",
        "- **Change current working directory:**  \n",
        "  ```python\n",
        "  os.chdir(\"path/to/folder\")\n",
        "  ```\n",
        "\n",
        "---\n",
        "\n",
        " In short: `os` is used to **manage files and folders** at the system level."
      ],
      "metadata": {
        "id": "UNfZHb7MNX7Y"
      }
    },
    {
      "cell_type": "markdown",
      "source": [
        "**23 .  What are the challenges associated with memory management in Python?**\n",
        "\n",
        "▶\n",
        "\n",
        "Even though Python handles memory **automatically**, it still has a few challenges:\n",
        "\n",
        "---\n",
        "\n",
        "##### **1. Memory Leaks**\n",
        "- Can happen if objects are unintentionally kept alive (e.g., global variables, reference cycles).\n",
        "\n",
        "---\n",
        "\n",
        "##### **2. Circular References**\n",
        "- Two or more objects referencing each other can prevent automatic cleanup by reference counting.\n",
        "\n",
        "---\n",
        "\n",
        "##### **3. High Memory Usage**\n",
        "- Some Python data structures (like lists, dictionaries) are **memory-hungry**.\n",
        "\n",
        "---\n",
        "\n",
        "##### **4. Slower Performance**\n",
        "- Garbage collection can sometimes pause your program momentarily.\n",
        "\n",
        "---\n",
        "\n",
        "##### **5. Manual Optimization Required**\n",
        "- Developers still need to write **efficient code** and sometimes use tools like `gc`, `tracemalloc`, or external libraries for better control.\n",
        "\n",
        "---\n",
        "\n",
        " **Summary:**  \n",
        "Python helps, but efficient memory use still depends on **developer awareness** and **clean coding practices**."
      ],
      "metadata": {
        "id": "T_0PcrgjN4Nb"
      }
    },
    {
      "cell_type": "markdown",
      "source": [
        "**24 .    How do you raise an exception manually in Python?**\n",
        "\n",
        "▶\n",
        "\n",
        "You can raise an exception using the **`raise`** keyword.\n",
        "\n",
        "---\n",
        "\n",
        "##### Syntax:\n",
        "```python\n",
        "raise ExceptionType(\"Custom error message\")\n",
        "```\n",
        "\n",
        "---\n",
        "\n",
        "##### Example:\n",
        "```python\n",
        "age = -1\n",
        "if age < 0:\n",
        "    raise ValueError(\"Age cannot be negative\")\n",
        "```\n",
        "\n",
        "---\n",
        " **Common Exceptions:** `ValueError`, `TypeError`, `RuntimeError`, etc.  \n",
        "Use this to handle **custom error situations** in your code."
      ],
      "metadata": {
        "id": "WDFCi7YTOjQp"
      }
    },
    {
      "cell_type": "markdown",
      "source": [
        "**25 . Why is it important to use multithreading in certain applications?**\n",
        "\n",
        "▶\n",
        "\n",
        "Multithreading is useful when you want to do **multiple things at once**, especially for **I/O-bound tasks**.\n",
        "\n",
        "---\n",
        "\n",
        "##### Key Reasons:\n",
        "\n",
        "1. **Improves Performance**  \n",
        "   - Handles tasks like file I/O, network requests, or user inputs without blocking the program.\n",
        "\n",
        "2. **Better Resource Utilization**  \n",
        "   - Makes full use of system waiting time (e.g., waiting for a file to load or a server to respond).\n",
        "\n",
        "3. **Keeps Applications Responsive**  \n",
        "   - Essential for apps like **GUIs** or **web servers**, where freezing would hurt user experience.\n",
        "\n",
        "4. **Efficient Task Switching**  \n",
        "   - Threads can switch efficiently when one is waiting (e.g., for data), speeding up overall flow.\n",
        "\n",
        "---\n",
        " **In short:**  \n",
        "Multithreading makes apps **faster, smoother, and more efficient**, especially when dealing with **waiting tasks**."
      ],
      "metadata": {
        "id": "4HYIf_sRPC9R"
      }
    },
    {
      "cell_type": "markdown",
      "source": [
        "# **Practical Questions**"
      ],
      "metadata": {
        "id": "BoDbqO7PPdQp"
      }
    },
    {
      "cell_type": "code",
      "source": [
        "# Define the string you want to write to the file  #1. How can you open a file for writing in Python and write a string to it?\n",
        "my_string = \"Hello, this is a test string!\"\n",
        "\n",
        "# Open the file in write mode ('w'). If the file doesn't exist, it will be created.\n",
        "with open('example.txt', 'w') as file:\n",
        "    # Write the string to the file\n",
        "    file.write(my_string)\n",
        "\n",
        "print(\"String written to file successfully!\")\n"
      ],
      "metadata": {
        "colab": {
          "base_uri": "https://localhost:8080/"
        },
        "id": "Tsb5Ddo5RrZZ",
        "outputId": "aeefbb34-981d-4d48-8ef9-5030691c70fc"
      },
      "execution_count": 6,
      "outputs": [
        {
          "output_type": "stream",
          "name": "stdout",
          "text": [
            "String written to file successfully!\n"
          ]
        }
      ]
    },
    {
      "cell_type": "code",
      "source": [
        "#2 . Write a Python program to read the contents of a file and print each line.\n",
        "# Open the file in read mode ('r')\n",
        "with open('example.txt', 'r') as file:\n",
        "    # Loop through each line in the file\n",
        "    for line in file:\n",
        "        # Print the line (removes any extra newline characters at the end)\n",
        "        print(line.strip())\n",
        "\n"
      ],
      "metadata": {
        "colab": {
          "base_uri": "https://localhost:8080/"
        },
        "id": "0LJp6dn-R1vb",
        "outputId": "b623b0a2-30b7-4c41-9434-c624ef4d6132"
      },
      "execution_count": 8,
      "outputs": [
        {
          "output_type": "stream",
          "name": "stdout",
          "text": [
            "Hello, this is a test string!\n"
          ]
        }
      ]
    },
    {
      "cell_type": "code",
      "source": [
        "#3 .How would you handle a case where the file doesn't exist while trying to open it for reading?\n",
        "try:\n",
        "    # Try to open the file in read mode ('r')\n",
        "    with open('example.txt', 'r') as file:\n",
        "        # Loop through each line in the file\n",
        "        for line in file:\n",
        "            # Print the line (removes any extra newline characters at the end)\n",
        "            print(line.strip())\n",
        "\n",
        "except FileNotFoundError:\n",
        "    print(\"Error: The file does not exist.\")\n"
      ],
      "metadata": {
        "colab": {
          "base_uri": "https://localhost:8080/"
        },
        "id": "jZfuGCOUTQGI",
        "outputId": "a93f1fd8-31c2-4320-d6b7-640b864c0684"
      },
      "execution_count": 10,
      "outputs": [
        {
          "output_type": "stream",
          "name": "stdout",
          "text": [
            "Hello, this is a test string!\n"
          ]
        }
      ]
    },
    {
      "cell_type": "code",
      "source": [
        "#4 .  Write a Python script that reads from one file and writes its content to another file.\n",
        "# Open the source file in read mode ('r')\n",
        "\n",
        "with open('source_file.txt', 'r') as source_file:\n",
        "    # Open the destination file in write mode ('w')\n",
        "    with open('destination_file.txt', 'w') as destination_file:\n",
        "        # Read the content from the source file and write it to the destination file\n",
        "        content = source_file.read()\n",
        "        destination_file.write(content)\n",
        "\n",
        "print(\"Content copied successfully!\")\n"
      ],
      "metadata": {
        "colab": {
          "base_uri": "https://localhost:8080/",
          "height": 211
        },
        "id": "fQbxBI8BUcnn",
        "outputId": "d940d174-d692-4cf6-c502-9deb346de3d1"
      },
      "execution_count": 14,
      "outputs": [
        {
          "output_type": "error",
          "ename": "FileNotFoundError",
          "evalue": "[Errno 2] No such file or directory: 'source_file.txt'",
          "traceback": [
            "\u001b[0;31m---------------------------------------------------------------------------\u001b[0m",
            "\u001b[0;31mFileNotFoundError\u001b[0m                         Traceback (most recent call last)",
            "\u001b[0;32m<ipython-input-14-3e455f20f178>\u001b[0m in \u001b[0;36m<cell line: 0>\u001b[0;34m()\u001b[0m\n\u001b[1;32m      2\u001b[0m \u001b[0;31m# Open the source file in read mode ('r')\u001b[0m\u001b[0;34m\u001b[0m\u001b[0;34m\u001b[0m\u001b[0m\n\u001b[1;32m      3\u001b[0m \u001b[0;34m\u001b[0m\u001b[0m\n\u001b[0;32m----> 4\u001b[0;31m \u001b[0;32mwith\u001b[0m \u001b[0mopen\u001b[0m\u001b[0;34m(\u001b[0m\u001b[0;34m'source_file.txt'\u001b[0m\u001b[0;34m,\u001b[0m \u001b[0;34m'r'\u001b[0m\u001b[0;34m)\u001b[0m \u001b[0;32mas\u001b[0m \u001b[0msource_file\u001b[0m\u001b[0;34m:\u001b[0m\u001b[0;34m\u001b[0m\u001b[0;34m\u001b[0m\u001b[0m\n\u001b[0m\u001b[1;32m      5\u001b[0m     \u001b[0;31m# Open the destination file in write mode ('w')\u001b[0m\u001b[0;34m\u001b[0m\u001b[0;34m\u001b[0m\u001b[0m\n\u001b[1;32m      6\u001b[0m     \u001b[0;32mwith\u001b[0m \u001b[0mopen\u001b[0m\u001b[0;34m(\u001b[0m\u001b[0;34m'destination_file.txt'\u001b[0m\u001b[0;34m,\u001b[0m \u001b[0;34m'w'\u001b[0m\u001b[0;34m)\u001b[0m \u001b[0;32mas\u001b[0m \u001b[0mdestination_file\u001b[0m\u001b[0;34m:\u001b[0m\u001b[0;34m\u001b[0m\u001b[0;34m\u001b[0m\u001b[0m\n",
            "\u001b[0;31mFileNotFoundError\u001b[0m: [Errno 2] No such file or directory: 'source_file.txt'"
          ]
        }
      ]
    },
    {
      "cell_type": "code",
      "source": [
        "try:\n",
        "    # Try to open the source file in read mode ('r')         #error handling\n",
        "    with open('source_file.txt', 'r') as source_file:\n",
        "        # Open the destination file in write mode ('w')\n",
        "        with open('destination_file.txt', 'w') as destination_file:\n",
        "            # Read the content from the source file and write it to the destination file\n",
        "            content = source_file.read()\n",
        "            destination_file.write(content)\n",
        "\n",
        "    print(\"Content copied successfully!\")\n",
        "\n",
        "except FileNotFoundError:\n",
        "    print(\"Error: The source file does not exist.\")\n",
        "except IOError:\n",
        "    print(\"Error: There was an issue with file reading or writing.\")\n"
      ],
      "metadata": {
        "colab": {
          "base_uri": "https://localhost:8080/"
        },
        "id": "1ZGsIippWWrL",
        "outputId": "c1e43f6c-9114-4538-a247-e48e6647527f"
      },
      "execution_count": 16,
      "outputs": [
        {
          "output_type": "stream",
          "name": "stdout",
          "text": [
            "Error: The source file does not exist.\n"
          ]
        }
      ]
    },
    {
      "cell_type": "code",
      "source": [
        "#5 . How would you catch and handle division by zero error in Python?\n",
        "try:\n",
        "    # Try to perform division\n",
        "    numerator = 10\n",
        "    denominator = 0  # This will cause a division by zero error\n",
        "    result = numerator / denominator\n",
        "    print(\"Result:\", result)\n",
        "\n",
        "except ZeroDivisionError:\n",
        "    print(\"Error: Cannot divide by zero.\")\n"
      ],
      "metadata": {
        "colab": {
          "base_uri": "https://localhost:8080/"
        },
        "id": "dhQN-8VNWoOk",
        "outputId": "514793c0-4add-4c62-f78a-cf6d912cd300"
      },
      "execution_count": 17,
      "outputs": [
        {
          "output_type": "stream",
          "name": "stdout",
          "text": [
            "Error: Cannot divide by zero.\n"
          ]
        }
      ]
    },
    {
      "cell_type": "code",
      "source": [
        "#6 .  Write a Python program that logs an error message to a log file when a division by zero exception occurs.\n",
        "import logging\n",
        "\n",
        "# Configure the logging\n",
        "logging.basicConfig(filename='error_log.txt', level=logging.ERROR,\n",
        "                    format='%(asctime)s - %(levelname)s - %(message)s')\n",
        "\n",
        "try:\n",
        "    # Perform a division operation that could cause a division by zero error\n",
        "    numerator = 10\n",
        "    denominator = 0  # This will cause a division by zero error\n",
        "    result = numerator / denominator\n",
        "    print(\"Result:\", result)\n",
        "\n",
        "except ZeroDivisionError as e:\n",
        "    # Log the error to the log file\n",
        "    logging.error(f\"Division by zero error: {e}\")\n",
        "    print(\"Error: Cannot divide by zero.\")\n"
      ],
      "metadata": {
        "colab": {
          "base_uri": "https://localhost:8080/"
        },
        "id": "c2n9nOGuXCdH",
        "outputId": "1308fa85-d015-473a-92a4-ddc80f05b0b5"
      },
      "execution_count": 18,
      "outputs": [
        {
          "output_type": "stream",
          "name": "stderr",
          "text": [
            "ERROR:root:Division by zero error: division by zero\n"
          ]
        },
        {
          "output_type": "stream",
          "name": "stdout",
          "text": [
            "Error: Cannot divide by zero.\n"
          ]
        }
      ]
    },
    {
      "cell_type": "code",
      "source": [
        "#7 .  How do you log information at different levels (INFO, ERROR, WARNING) in Python using the logging module?\n",
        "import logging\n",
        "\n",
        "# Configure the logging settings\n",
        "logging.basicConfig(filename='app.log', level=logging.DEBUG,\n",
        "                    format='%(asctime)s - %(levelname)s - %(message)s')\n",
        "\n",
        "# Log messages at different levels\n",
        "logging.debug('This is a debug message')  # Detailed debugging information\n",
        "logging.info('This is an info message')   # General program information\n",
        "logging.warning('This is a warning message')  # Potential issues\n",
        "logging.error('This is an error message')  # An actual error occurred\n",
        "logging.critical('This is a critical error message')  # Critical error that might stop the program\n"
      ],
      "metadata": {
        "colab": {
          "base_uri": "https://localhost:8080/"
        },
        "id": "n1d8MDq6X-OK",
        "outputId": "a77318d7-ed09-4420-feff-780db59e2559"
      },
      "execution_count": 19,
      "outputs": [
        {
          "output_type": "stream",
          "name": "stderr",
          "text": [
            "WARNING:root:This is a warning message\n",
            "ERROR:root:This is an error message\n",
            "CRITICAL:root:This is a critical error message\n"
          ]
        }
      ]
    },
    {
      "cell_type": "code",
      "source": [
        "#8 .  Write a program to handle a file opening error using exception handling.\n",
        "try:\n",
        "    # Attempt to open the file\n",
        "    with open('nonexistent_file.txt', 'r') as file:\n",
        "        content = file.read()\n",
        "        print(content)\n",
        "\n",
        "except FileNotFoundError:\n",
        "    print(\"Error: The file does not exist.\")\n",
        "\n",
        "except IOError:\n",
        "    print(\"Error: There was an issue with reading the file.\")\n",
        "\n",
        "except Exception as e:\n",
        "    print(f\"An unexpected error occurred: {e}\")\n"
      ],
      "metadata": {
        "colab": {
          "base_uri": "https://localhost:8080/"
        },
        "id": "sMBUJj-OYgXA",
        "outputId": "515ad4d4-697c-46e6-ddb0-f98020882804"
      },
      "execution_count": 20,
      "outputs": [
        {
          "output_type": "stream",
          "name": "stdout",
          "text": [
            "Error: The file does not exist.\n"
          ]
        }
      ]
    },
    {
      "cell_type": "code",
      "source": [
        "#9 . How can you read a file line by line and store its content in a list in Python?\n",
        "# loop\n",
        "lines = []  # Initialize an empty list\n",
        "\n",
        "# Open the file in read mode ('r')\n",
        "with open('example.txt', 'r') as file:\n",
        "    for line in file:\n",
        "        # Append each line to the list, stripping any extra newline characters\n",
        "        lines.append(line.strip())\n",
        "\n",
        "# Print the content stored in the list\n",
        "print(lines)\n"
      ],
      "metadata": {
        "colab": {
          "base_uri": "https://localhost:8080/"
        },
        "id": "z6V_dqMaZCmc",
        "outputId": "729a2e15-6cc5-4d43-9047-4caf8f81b06b"
      },
      "execution_count": 21,
      "outputs": [
        {
          "output_type": "stream",
          "name": "stdout",
          "text": [
            "['Hello, this is a test string!']\n"
          ]
        }
      ]
    },
    {
      "cell_type": "code",
      "source": [
        "#readlines()\n",
        "# Open the file in read mode ('r')\n",
        "with open('example.txt', 'r') as file:\n",
        "    lines = [line.strip() for line in file.readlines()]\n",
        "\n",
        "# Print the content stored in the list\n",
        "print(lines)\n"
      ],
      "metadata": {
        "colab": {
          "base_uri": "https://localhost:8080/"
        },
        "id": "hCbobLbqZi8c",
        "outputId": "f78b3c29-f847-4f98-a230-3943ac2e3512"
      },
      "execution_count": 22,
      "outputs": [
        {
          "output_type": "stream",
          "name": "stdout",
          "text": [
            "['Hello, this is a test string!']\n"
          ]
        }
      ]
    },
    {
      "cell_type": "code",
      "source": [
        "#10  . How can you append data to an existing file in Python?\n",
        "\n",
        "# Open the file in append mode ('a')\n",
        "with open('example.txt', 'a') as file:\n",
        "    # Data to append\n",
        "    file.write(\"This is a new line added to the file.\\n\")\n",
        "    file.write(\"Here's another line being added.\\n\")\n",
        "\n",
        "print(\"Data appended successfully!\")\n"
      ],
      "metadata": {
        "colab": {
          "base_uri": "https://localhost:8080/"
        },
        "id": "YpFZVKdUZvwH",
        "outputId": "1c851429-b4e1-4687-e9e4-3f4f35fd5ea5"
      },
      "execution_count": 23,
      "outputs": [
        {
          "output_type": "stream",
          "name": "stdout",
          "text": [
            "Data appended successfully!\n"
          ]
        }
      ]
    },
    {
      "cell_type": "code",
      "source": [
        "'''11 .   Write a Python program that uses a try-except block to handle an error when attempting to access a\n",
        "dictionary key that doesn't exist.'''\n",
        "\n",
        "# Define a sample dictionary\n",
        "student_scores = {\n",
        "    \"Alice\": 85,\n",
        "    \"Bob\": 92,\n",
        "    \"Charlie\": 78\n",
        "}\n",
        "\n",
        "try:\n",
        "    # Try to access a key that might not exist\n",
        "    print(\"David's score:\", student_scores[\"David\"])\n",
        "\n",
        "except KeyError:\n",
        "    # Handle the error if the key is not found\n",
        "    print(\"Error: The key 'David' does not exist in the dictionary.\")\n"
      ],
      "metadata": {
        "colab": {
          "base_uri": "https://localhost:8080/"
        },
        "id": "xB6YO2cBafNA",
        "outputId": "3721d45d-8d65-4585-e0a2-d54022b39063"
      },
      "execution_count": 24,
      "outputs": [
        {
          "output_type": "stream",
          "name": "stdout",
          "text": [
            "Error: The key 'David' does not exist in the dictionary.\n"
          ]
        }
      ]
    },
    {
      "cell_type": "code",
      "source": [
        "#12 . Write a program that demonstrates using multiple except blocks to handle different types of exceptions.\n",
        "\n",
        "try:\n",
        "    # Input from user\n",
        "    num1 = int(input(\"Enter the numerator: \"))\n",
        "    num2 = int(input(\"Enter the denominator: \"))\n",
        "\n",
        "    # Division operation\n",
        "    result = num1 / num2\n",
        "    print(\"Result:\", result)\n",
        "\n",
        "except ZeroDivisionError:\n",
        "    print(\"Error: Cannot divide by zero.\")\n",
        "\n",
        "except ValueError:\n",
        "    print(\"Error: Invalid input. Please enter numeric values.\")\n",
        "\n",
        "except Exception as e:\n",
        "    print(f\"An unexpected error occurred: {e}\")\n"
      ],
      "metadata": {
        "colab": {
          "base_uri": "https://localhost:8080/"
        },
        "id": "KhEGkapbbDgX",
        "outputId": "7788f3c9-6fc5-4e22-f0fe-0bbb539e899b"
      },
      "execution_count": 25,
      "outputs": [
        {
          "output_type": "stream",
          "name": "stdout",
          "text": [
            "Enter the numerator: 10\n",
            "Enter the denominator: 0\n",
            "Error: Cannot divide by zero.\n"
          ]
        }
      ]
    },
    {
      "cell_type": "code",
      "source": [
        "#13 . How would you check if a file exists before attempting to read it in Python?\n",
        "\n",
        "#os.path.exists()\n",
        "\n",
        "import os\n",
        "\n",
        "filename = \"example.txt\"\n",
        "\n",
        "if os.path.exists(filename):\n",
        "    with open(filename, 'r') as file:\n",
        "        content = file.read()\n",
        "        print(\"File content:\\n\", content)\n",
        "else:\n",
        "    print(f\"Error: The file '{filename}' does not exist.\")\n"
      ],
      "metadata": {
        "colab": {
          "base_uri": "https://localhost:8080/"
        },
        "id": "ywow_xfBbsQW",
        "outputId": "7c43b819-e7e3-468b-bfdc-c957752b54fc"
      },
      "execution_count": 26,
      "outputs": [
        {
          "output_type": "stream",
          "name": "stdout",
          "text": [
            "File content:\n",
            " Hello, this is a test string!This is a new line added to the file.\n",
            "Here's another line being added.\n",
            "\n"
          ]
        }
      ]
    },
    {
      "cell_type": "code",
      "source": [
        "#pathlib.Path\n",
        "\n",
        "from pathlib import Path\n",
        "\n",
        "file_path = Path(\"example.txt\")\n",
        "\n",
        "if file_path.exists():\n",
        "    with file_path.open('r') as file:\n",
        "        content = file.read()\n",
        "        print(\"File content:\\n\", content)\n",
        "else:\n",
        "    print(f\"Error: The file '{file_path}' does not exist.\")\n"
      ],
      "metadata": {
        "colab": {
          "base_uri": "https://localhost:8080/"
        },
        "id": "OmIMT3ulcI1B",
        "outputId": "d238ffba-4f81-4c47-f423-7ae8e4c37470"
      },
      "execution_count": 27,
      "outputs": [
        {
          "output_type": "stream",
          "name": "stdout",
          "text": [
            "File content:\n",
            " Hello, this is a test string!This is a new line added to the file.\n",
            "Here's another line being added.\n",
            "\n"
          ]
        }
      ]
    },
    {
      "cell_type": "code",
      "source": [
        "#14 .  Write a program that uses the logging module to log both informational and error messages.\n",
        "\n",
        "import logging\n",
        "\n",
        "# Configure logging\n",
        "logging.basicConfig(\n",
        "    filename='app_log.txt',          # Log file name\n",
        "    level=logging.DEBUG,             # Set level to capture all logs from DEBUG and above\n",
        "    format='%(asctime)s - %(levelname)s - %(message)s'\n",
        ")\n",
        "\n",
        "# Log an informational message\n",
        "logging.info(\"The program has started successfully.\")\n",
        "\n",
        "try:\n",
        "    # Example of a normal operation\n",
        "    a = 10\n",
        "    b = 0\n",
        "    result = a / b\n",
        "    logging.info(f\"Division result is {result}\")\n",
        "\n",
        "except ZeroDivisionError as e:\n",
        "    # Log an error message\n",
        "    logging.error(\"Attempted to divide by zero.\")\n",
        "    logging.exception(e)\n",
        "\n",
        "# Log another info to indicate program flow continues\n",
        "logging.info(\"The program has completed.\")\n"
      ],
      "metadata": {
        "colab": {
          "base_uri": "https://localhost:8080/"
        },
        "id": "UHP4_795czn_",
        "outputId": "d1df9079-d2ff-4379-aa1d-fd21d859feb3"
      },
      "execution_count": 28,
      "outputs": [
        {
          "output_type": "stream",
          "name": "stderr",
          "text": [
            "ERROR:root:Attempted to divide by zero.\n",
            "ERROR:root:division by zero\n",
            "Traceback (most recent call last):\n",
            "  File \"<ipython-input-28-762abed818d1>\", line 19, in <cell line: 0>\n",
            "    result = a / b\n",
            "             ~~^~~\n",
            "ZeroDivisionError: division by zero\n"
          ]
        }
      ]
    },
    {
      "cell_type": "code",
      "source": [
        "#15 . Write a Python program that prints the content of a file and handles the case when the file is empty.\n",
        "\n",
        "try:\n",
        "    # Open the file in read mode\n",
        "    with open('example.txt', 'r') as file:\n",
        "        content = file.read()\n",
        "\n",
        "        # Check if file is empty\n",
        "        if not content.strip():  # Removes whitespace/newlines\n",
        "            print(\"The file is empty.\")\n",
        "        else:\n",
        "            print(\"File content:\")\n",
        "            print(content)\n",
        "\n",
        "except FileNotFoundError:\n",
        "    print(\"Error: The file does not exist.\")\n",
        "\n",
        "except Exception as e:\n",
        "    print(f\"An unexpected error occurred: {e}\")\n"
      ],
      "metadata": {
        "colab": {
          "base_uri": "https://localhost:8080/"
        },
        "id": "H2mNYMQhdIse",
        "outputId": "68325ff1-59ae-4982-add9-54483d5795b6"
      },
      "execution_count": 29,
      "outputs": [
        {
          "output_type": "stream",
          "name": "stdout",
          "text": [
            "File content:\n",
            "Hello, this is a test string!This is a new line added to the file.\n",
            "Here's another line being added.\n",
            "\n"
          ]
        }
      ]
    },
    {
      "cell_type": "code",
      "source": [
        "#16 . Demonstrate how to use memory profiling to check the memory usage of a small program.\n",
        "\n",
        "from memory_profiler import profile\n",
        "\n",
        "@profile\n",
        "def memory_usage_demo():\n",
        "    # Simulate memory usage with a large list\n",
        "    a = [i for i in range(1000000)]  # This will consume memory\n",
        "    total = sum(a)\n",
        "    print(\"Sum of numbers:\", total)\n",
        "\n",
        "if __name__ == '__main__':\n",
        "    memory_usage_demo()\n"
      ],
      "metadata": {
        "colab": {
          "base_uri": "https://localhost:8080/",
          "height": 384
        },
        "collapsed": true,
        "id": "Y9sQuTVTdcFv",
        "outputId": "5323adc6-8b45-44e1-fb9f-8a30eaeb76e4"
      },
      "execution_count": 30,
      "outputs": [
        {
          "output_type": "error",
          "ename": "ModuleNotFoundError",
          "evalue": "No module named 'memory_profiler'",
          "traceback": [
            "\u001b[0;31m---------------------------------------------------------------------------\u001b[0m",
            "\u001b[0;31mModuleNotFoundError\u001b[0m                       Traceback (most recent call last)",
            "\u001b[0;32m<ipython-input-30-d4bbb2f15abd>\u001b[0m in \u001b[0;36m<cell line: 0>\u001b[0;34m()\u001b[0m\n\u001b[1;32m      1\u001b[0m \u001b[0;31m#16 . Demonstrate how to use memory profiling to check the memory usage of a small program.\u001b[0m\u001b[0;34m\u001b[0m\u001b[0;34m\u001b[0m\u001b[0m\n\u001b[1;32m      2\u001b[0m \u001b[0;34m\u001b[0m\u001b[0m\n\u001b[0;32m----> 3\u001b[0;31m \u001b[0;32mfrom\u001b[0m \u001b[0mmemory_profiler\u001b[0m \u001b[0;32mimport\u001b[0m \u001b[0mprofile\u001b[0m\u001b[0;34m\u001b[0m\u001b[0;34m\u001b[0m\u001b[0m\n\u001b[0m\u001b[1;32m      4\u001b[0m \u001b[0;34m\u001b[0m\u001b[0m\n\u001b[1;32m      5\u001b[0m \u001b[0;34m@\u001b[0m\u001b[0mprofile\u001b[0m\u001b[0;34m\u001b[0m\u001b[0;34m\u001b[0m\u001b[0m\n",
            "\u001b[0;31mModuleNotFoundError\u001b[0m: No module named 'memory_profiler'",
            "",
            "\u001b[0;31m---------------------------------------------------------------------------\u001b[0;32m\nNOTE: If your import is failing due to a missing package, you can\nmanually install dependencies using either !pip or !apt.\n\nTo view examples of installing some common dependencies, click the\n\"Open Examples\" button below.\n\u001b[0;31m---------------------------------------------------------------------------\u001b[0m\n"
          ],
          "errorDetails": {
            "actions": [
              {
                "action": "open_url",
                "actionText": "Open Examples",
                "url": "/notebooks/snippets/importing_libraries.ipynb"
              }
            ]
          }
        }
      ]
    },
    {
      "cell_type": "code",
      "source": [
        "#17  . Write a Python program to create and write a list of numbers to a file, one number per line.\n",
        "\n",
        "# List of numbers\n",
        "numbers = [1, 2, 3, 4, 5, 6, 7, 8, 9, 10]\n",
        "\n",
        "# Open the file in write mode\n",
        "with open('numbers.txt', 'w') as file:\n",
        "    # Write each number to the file, one per line\n",
        "    for number in numbers:\n",
        "        file.write(f\"{number}\\n\")\n",
        "\n",
        "print(\"Numbers have been written to 'numbers.txt'\")\n"
      ],
      "metadata": {
        "colab": {
          "base_uri": "https://localhost:8080/"
        },
        "id": "_pMRIaErfe7L",
        "outputId": "cff22646-39d1-4427-a85e-a8f1c6ca2ef6"
      },
      "execution_count": 33,
      "outputs": [
        {
          "output_type": "stream",
          "name": "stdout",
          "text": [
            "Numbers have been written to 'numbers.txt'\n"
          ]
        }
      ]
    },
    {
      "cell_type": "code",
      "source": [
        "#18 . How would you implement a basic logging setup that logs to a file with rotation after 1MB?\n",
        "\n",
        "import logging\n",
        "from logging.handlers import RotatingFileHandler\n",
        "\n",
        "# Set up logging\n",
        "log_filename = 'app.log'\n",
        "\n",
        "# Create a RotatingFileHandler that will create a new log file after 1MB\n",
        "handler = RotatingFileHandler(log_filename, maxBytes=1e6, backupCount=3)  # 1MB = 1e6 bytes, backupCount is how many backup files to keep\n",
        "handler.setLevel(logging.INFO)\n",
        "\n",
        "# Create a formatter for the log messages\n",
        "formatter = logging.Formatter('%(asctime)s - %(levelname)s - %(message)s')\n",
        "handler.setFormatter(formatter)\n",
        "\n",
        "# Set up the logger\n",
        "logger = logging.getLogger()\n",
        "logger.setLevel(logging.INFO)\n",
        "logger.addHandler(handler)\n",
        "\n",
        "# Sample log messages\n",
        "logger.info(\"This is an info message.\")\n",
        "logger.error(\"This is an error message.\")\n",
        "logger.warning(\"This is a warning message.\")\n",
        "logger.debug(\"This is a debug message.\")  # This won't appear due to log level set to INFO\n"
      ],
      "metadata": {
        "colab": {
          "base_uri": "https://localhost:8080/"
        },
        "id": "MkjZqqH_haI2",
        "outputId": "90f5815a-a059-463f-a4a8-f34ee539b7a6"
      },
      "execution_count": 34,
      "outputs": [
        {
          "output_type": "stream",
          "name": "stderr",
          "text": [
            "INFO:root:This is an info message.\n",
            "ERROR:root:This is an error message.\n",
            "WARNING:root:This is a warning message.\n"
          ]
        }
      ]
    },
    {
      "cell_type": "code",
      "source": [
        "#19 . Write a program that handles both IndexError and KeyError using a try-except block.\n",
        "\n",
        "# Sample list and dictionary\n",
        "my_list = [1, 2, 3]\n",
        "my_dict = {'a': 1, 'b': 2}\n",
        "\n",
        "try:\n",
        "    # Trying to access an invalid index in the list\n",
        "    print(my_list[5])  # This will raise IndexError\n",
        "\n",
        "    # Trying to access a key that does not exist in the dictionary\n",
        "    print(my_dict['c'])  # This will raise KeyError\n",
        "\n",
        "except IndexError as index_err:\n",
        "    print(f\"IndexError occurred: {index_err}\")\n",
        "\n",
        "except KeyError as key_err:\n",
        "    print(f\"KeyError occurred: {key_err}\")\n"
      ],
      "metadata": {
        "colab": {
          "base_uri": "https://localhost:8080/"
        },
        "id": "mciiiMmkhyWY",
        "outputId": "7cf34c62-4146-4d83-b0f7-d3be9bd7473d"
      },
      "execution_count": 35,
      "outputs": [
        {
          "output_type": "stream",
          "name": "stdout",
          "text": [
            "IndexError occurred: list index out of range\n"
          ]
        }
      ]
    },
    {
      "cell_type": "code",
      "source": [
        "#20  . How would you open a file and read its contents using a context manager in Python?\n",
        "# Open the file using a context manager\n",
        "with open('example.txt', 'r') as file:\n",
        "    # Read the contents of the file\n",
        "    content = file.read()\n",
        "\n",
        "# Print the contents of the file\n",
        "print(content)\n"
      ],
      "metadata": {
        "colab": {
          "base_uri": "https://localhost:8080/"
        },
        "id": "go-QgrmhiDFl",
        "outputId": "54675c6f-8fbc-432a-83ca-93a68bfc6d3d"
      },
      "execution_count": 36,
      "outputs": [
        {
          "output_type": "stream",
          "name": "stdout",
          "text": [
            "Hello, this is a test string!This is a new line added to the file.\n",
            "Here's another line being added.\n",
            "\n"
          ]
        }
      ]
    },
    {
      "cell_type": "code",
      "source": [
        "#21 . Write a Python program that reads a file and prints the number of occurrences of a specific word.\n",
        "\n",
        "# Function to count occurrences of a word in a file\n",
        "def count_word_occurrences(filename, word_to_count):\n",
        "    try:\n",
        "        # Open the file using a context manager\n",
        "        with open(filename, 'r') as file:\n",
        "            # Read the contents of the file\n",
        "            content = file.read()\n",
        "\n",
        "        # Split the content into words and count the occurrences\n",
        "        words = content.split()\n",
        "        word_count = words.count(word_to_count)\n",
        "\n",
        "        return word_count\n",
        "\n",
        "    except FileNotFoundError:\n",
        "        return \"The file does not exist.\"\n",
        "\n",
        "# Example usage\n",
        "filename = 'example.txt'\n",
        "word_to_count = 'sample'  # Change this to the word you want to count\n",
        "\n",
        "# Call the function and print the result\n",
        "occurrences = count_word_occurrences(filename, word_to_count)\n",
        "print(f\"The word '{word_to_count}' appears {occurrences} times in the file.\")\n"
      ],
      "metadata": {
        "colab": {
          "base_uri": "https://localhost:8080/"
        },
        "id": "o4HHxUfFib6a",
        "outputId": "54973fdf-80e0-4c02-eecf-bd3f16bbea97"
      },
      "execution_count": 37,
      "outputs": [
        {
          "output_type": "stream",
          "name": "stdout",
          "text": [
            "The word 'sample' appears 0 times in the file.\n"
          ]
        }
      ]
    },
    {
      "cell_type": "code",
      "source": [
        "#22 . How can you check if a file is empty before attempting to read its contents?\n",
        "\n",
        "import os\n",
        "\n",
        "def check_if_file_is_empty(filename):\n",
        "    # Check if the file exists\n",
        "    if not os.path.exists(filename):\n",
        "        print(\"The file does not exist.\")\n",
        "        return False\n",
        "\n",
        "    # Check the size of the file\n",
        "    if os.path.getsize(filename) == 0:\n",
        "        print(\"The file is empty.\")\n",
        "        return True\n",
        "    else:\n",
        "        print(\"The file is not empty.\")\n",
        "        return False\n",
        "\n",
        "def read_file_if_not_empty(filename):\n",
        "    # Check if the file is empty before attempting to read\n",
        "    if not check_if_file_is_empty(filename):\n",
        "        try:\n",
        "            with open(filename, 'r') as file:\n",
        "                content = file.read()\n",
        "                print(\"File content:\")\n",
        "                print(content)\n",
        "        except Exception as e:\n",
        "            print(f\"Error reading the file: {e}\")\n",
        "\n",
        "# Example usage\n",
        "filename = 'example.txt'\n",
        "\n",
        "# Attempt to read the file if it's not empty\n",
        "read_file_if_not_empty(filename)\n"
      ],
      "metadata": {
        "colab": {
          "base_uri": "https://localhost:8080/"
        },
        "id": "Ks3PzI1fiwrr",
        "outputId": "507a559e-37c8-45e1-8680-52828c6c0bf2"
      },
      "execution_count": 38,
      "outputs": [
        {
          "output_type": "stream",
          "name": "stdout",
          "text": [
            "The file is not empty.\n",
            "File content:\n",
            "Hello, this is a test string!This is a new line added to the file.\n",
            "Here's another line being added.\n",
            "\n"
          ]
        }
      ]
    },
    {
      "cell_type": "code",
      "source": [
        "#23 . Write a Python program that writes to a log file when an error occurs during file handling.\n",
        "\n",
        "import logging\n",
        "\n",
        "# Set up logging to a file\n",
        "logging.basicConfig(filename='file_handling_errors.log',\n",
        "                    level=logging.ERROR,\n",
        "                    format='%(asctime)s - %(levelname)s - %(message)s')\n",
        "\n",
        "def read_file(filename):\n",
        "    try:\n",
        "        # Attempt to open and read the file\n",
        "        with open(filename, 'r') as file:\n",
        "            content = file.read()\n",
        "            print(content)\n",
        "    except Exception as e:\n",
        "        # Log the error to a log file\n",
        "        logging.error(f\"Error reading the file '{filename}': {e}\")\n",
        "        print(f\"An error occurred. Please check the log file for details.\")\n",
        "\n",
        "def write_to_file(filename, content):\n",
        "    try:\n",
        "        # Attempt to write content to the file\n",
        "        with open(filename, 'w') as file:\n",
        "            file.write(content)\n",
        "    except Exception as e:\n",
        "        # Log the error to a log file\n",
        "        logging.error(f\"Error writing to the file '{filename}': {e}\")\n",
        "        print(f\"An error occurred. Please check the log file for details.\")\n",
        "\n",
        "# Example usage\n",
        "filename_to_read = 'example.txt'\n",
        "filename_to_write = 'output.txt'\n",
        "content_to_write = \"This is a test content.\"\n",
        "\n",
        "# Read from a file\n",
        "read_file(filename_to_read)\n",
        "\n",
        "# Write to a file\n",
        "write_to_file(filename_to_write, content_to_write)\n"
      ],
      "metadata": {
        "colab": {
          "base_uri": "https://localhost:8080/"
        },
        "id": "dU3IRRlDjAz4",
        "outputId": "3adbe06f-84fb-4881-c670-c7d3c78759b3"
      },
      "execution_count": 39,
      "outputs": [
        {
          "output_type": "stream",
          "name": "stdout",
          "text": [
            "Hello, this is a test string!This is a new line added to the file.\n",
            "Here's another line being added.\n",
            "\n"
          ]
        }
      ]
    }
  ]
}